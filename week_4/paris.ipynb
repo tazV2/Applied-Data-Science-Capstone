{
 "cells": [
  {
   "cell_type": "markdown",
   "id": "5eb8d58e",
   "metadata": {},
   "source": [
    "### Imports "
   ]
  },
  {
   "cell_type": "code",
   "execution_count": null,
   "id": "41fc716b",
   "metadata": {
    "pycharm": {
     "is_executing": true
    }
   },
   "outputs": [],
   "source": [
    "import requests\n",
    "import pandas as pd\n",
    "from geopy.geocoders import Nominatim\n",
    "\n",
    "import numpy as np\n",
    "from sklearn.cluster import KMeans\n",
    "\n",
    "import matplotlib.cm as cm\n",
    "import matplotlib.colors as colors"
   ]
  },
  {
   "cell_type": "markdown",
   "id": "3a9bc450",
   "metadata": {},
   "source": [
    "### Getting latitude, longitude"
   ]
  },
  {
   "cell_type": "code",
   "execution_count": null,
   "id": "73ee7735",
   "metadata": {},
   "outputs": [],
   "source": [
    "addresses = [\"Panthéon\", \"Eiffel Tower\", \n",
    "            \"Arc de Triomphe\", \"Louvre Museum\", \n",
    "            \"Sacré-Cœur\"]\n",
    "def get_lat_long(address):\n",
    "    geolocator = Nominatim(user_agent=\"foursquare_agent\")\n",
    "    location = geolocator.geocode(address)\n",
    "    latitude = location.latitude\n",
    "    longitude = location.longitude\n",
    "    print(address, latitude, longitude)\n",
    "    return latitude, longitude"
   ]
  },
  {
   "cell_type": "code",
   "execution_count": null,
   "id": "f4a1d6fd",
   "metadata": {},
   "outputs": [],
   "source": [
    "for i in addresses:\n",
    "    get_lat_long(i)"
   ]
  },
  {
   "cell_type": "markdown",
   "id": "6ec70b9a",
   "metadata": {},
   "source": [
    "### Five points of NY"
   ]
  },
  {
   "cell_type": "code",
   "execution_count": null,
   "id": "d51c9a3b",
   "metadata": {},
   "outputs": [],
   "source": [
    "Panthéon = [\"Panthéon\",\"41.89861595\", \"12.476833414483862\"]\n",
    "Eiffel_Tower = [\"Eiffel Tower\",\"48.858260200000004\", \"2.2944990543196795\"]\n",
    "Arc_de_Triomphe = [\"Arc de Triomphe\",\"48.8737791\", \"2.295037226037673\"]\n",
    "Louvre_Museum = [\"Louvre Museum\",\"48.8611473\", \"2.33802768704666\"]\n",
    "Sacré_Cœur = [\"Sacré-Cœur\",\"48.88680575\", \"2.3430153448835087\"]"
   ]
  },
  {
   "cell_type": "code",
   "execution_count": null,
   "id": "94f74061",
   "metadata": {},
   "outputs": [],
   "source": [
    "paris_points_with_lat_long = pd.DataFrame([Panthéon, Eiffel_Tower, \n",
    "                                              Arc_de_Triomphe, Louvre_Museum, Sacré_Cœur], \n",
    "                                             columns=[\"Point name\",\"lat\", \"lng\"])\n",
    "paris_points_with_lat_long"
   ]
  },
  {
   "cell_type": "markdown",
   "id": "0d36dc10",
   "metadata": {},
   "source": [
    "### Api setup"
   ]
  },
  {
   "cell_type": "code",
   "execution_count": null,
   "id": "c58618fd",
   "metadata": {},
   "outputs": [],
   "source": [
    "def saving_data(area_name, latitude, longitude):\n",
    "    url = f\"https://api.foursquare.com/v2/venues/explore?client_id=N40W0THAJDZYKLHLHWRDBU01LIMNXBMXZ03X5ZOGZSRVMLSR&client_secret=GZNJSGG3SLAYGMN4BJCC5VIOFBT2EW10OUF1V20ZO4P3V2YT&ll={latitude},{longitude}&v=20180604&radius=30000&limit=100\"\n",
    "    results = requests.get(url).json()\n",
    "    dataframe = pd.json_normalize(results[\"response\"][\"groups\"][0][\"items\"])\n",
    "    filtered_columns = ['venue.name', 'venue.categories'] + [col for col in dataframe.columns if col.startswith('venue.location.')] + ['venue.id']\n",
    "    dataframe_filtered = dataframe.loc[:, filtered_columns]\n",
    "    dataframe_filtered['venue.categories'] = dataframe_filtered.apply(get_category_type, axis=1) # category for each row\n",
    "    dataframe_filtered.columns = [col.split('.')[-1] for col in dataframe_filtered.columns] # clean columns\n",
    "    \n",
    "    dataframe_filtered.to_pickle(f\"{area_name}.pkl\") # save to pickle so that wont call the api over and over again\n",
    "    return dataframe_filtered"
   ]
  },
  {
   "cell_type": "markdown",
   "id": "e10adc50",
   "metadata": {},
   "source": [
    "### Get the Categories"
   ]
  },
  {
   "cell_type": "code",
   "execution_count": null,
   "id": "b59cedef",
   "metadata": {},
   "outputs": [],
   "source": [
    "def get_category_type(row):\n",
    "    try:\n",
    "        categories_list = row['categories']\n",
    "    except:\n",
    "        categories_list = row['venue.categories']\n",
    "        \n",
    "    if len(categories_list) == 0:\n",
    "        return None\n",
    "    else:\n",
    "        return categories_list[0]['name']"
   ]
  },
  {
   "cell_type": "markdown",
   "id": "b5ee9a10",
   "metadata": {},
   "source": [
    "### Collect the data from the API and merge "
   ]
  },
  {
   "cell_type": "code",
   "execution_count": null,
   "id": "f09a7ccb",
   "metadata": {},
   "outputs": [],
   "source": [
    "df_Panthéon = saving_data(\"Panthéon\", Panthéon[1], Panthéon[2])\n",
    "# df_Eiffel_Tower = saving_data(*Eiffel_Tower)\n",
    "# df_Arc_de_Triomphe = saving_data(*Arc_de_Triomphe)\n",
    "# df_Louvre_Museum = saving_data(*Louvre_Museum)\n",
    "# df_Sacré_Cœur = saving_data(*Sacré_Cœur)"
   ]
  },
  {
   "cell_type": "markdown",
   "id": "ddd5090b",
   "metadata": {},
   "source": [
    "### Add Column with the Value with the name of NY point"
   ]
  },
  {
   "cell_type": "code",
   "execution_count": null,
   "id": "e6d9147e",
   "metadata": {},
   "outputs": [],
   "source": [
    "df_Panthéon[\"Point name\"] = [\"Panthéon\" for _ in range(len(df_Panthéon[\"name\"]))]\n",
    "df_Eiffel_Tower[\"Point name\"] =[\"Eiffel Tower\" for _ in range(len(df_Eiffel_Tower[\"name\"]))]\n",
    "df_Arc_de_Triomphe[\"Point name\"] = [\"Arc de Triomphe\" for _ in range(len(df_Arc_de_Triomphe[\"name\"]))]\n",
    "df_Louvre_Museum[\"Point name\"] = [\"Louvre Museum\" for _ in range(len(df_Louvre_Museum[\"name\"]))]\n",
    "df_Sacré_Cœur[\"Point name\"] = [\"Sacré-Cœur\" for _ in range(len(df_Sacré_Cœur[\"name\"]))]"
   ]
  },
  {
   "cell_type": "code",
   "execution_count": null,
   "id": "c7dff40c",
   "metadata": {},
   "outputs": [],
   "source": [
    "full_df = pd.concat([df_Panthéon, \n",
    "               df_Eiffel_Tower, \n",
    "               df_Arc_de_Triomphe, \n",
    "               df_Louvre_Museum, \n",
    "               df_Sacré_Cœur])"
   ]
  },
  {
   "cell_type": "code",
   "execution_count": null,
   "id": "d0f412b5",
   "metadata": {},
   "outputs": [],
   "source": [
    "full_df.to_csv(\"full_paris_data.csv\")"
   ]
  },
  {
   "cell_type": "code",
   "execution_count": null,
   "id": "9de5bc12",
   "metadata": {
    "scrolled": true
   },
   "outputs": [],
   "source": [
    "full_df.head()"
   ]
  },
  {
   "cell_type": "markdown",
   "id": "1e1a9905",
   "metadata": {},
   "source": [
    "#### Unique Categories"
   ]
  },
  {
   "cell_type": "code",
   "execution_count": null,
   "id": "2065b712",
   "metadata": {},
   "outputs": [],
   "source": [
    "len(full_df[\"categories\"].unique())"
   ]
  },
  {
   "cell_type": "markdown",
   "id": "f107c9e2",
   "metadata": {},
   "source": [
    "### One hot encoding"
   ]
  },
  {
   "cell_type": "code",
   "execution_count": null,
   "id": "c3f46606",
   "metadata": {},
   "outputs": [],
   "source": [
    "one_hot_paris = pd.get_dummies(full_df[[\"categories\"]], prefix=\"\", prefix_sep=\"\")\n",
    "one_hot_paris[\"Point name\"] = full_df[\"Point name\"]"
   ]
  },
  {
   "cell_type": "code",
   "execution_count": null,
   "id": "4ee5846b",
   "metadata": {},
   "outputs": [],
   "source": [
    "one_hot_paris.head()"
   ]
  },
  {
   "cell_type": "markdown",
   "id": "a216f038",
   "metadata": {},
   "source": [
    "### Test Frequency of occurrence of each category"
   ]
  },
  {
   "cell_type": "code",
   "execution_count": null,
   "id": "ffeff506",
   "metadata": {},
   "outputs": [],
   "source": [
    "one_hot_paris_grouped = one_hot_paris.groupby(\"Point name\").mean().reset_index()\n",
    "one_hot_paris_grouped"
   ]
  },
  {
   "cell_type": "code",
   "execution_count": null,
   "id": "e6699b32",
   "metadata": {},
   "outputs": [],
   "source": [
    "one_hot_paris_grouped.shape"
   ]
  },
  {
   "cell_type": "markdown",
   "id": "7a11db3f",
   "metadata": {},
   "source": [
    "### Top 10 venues"
   ]
  },
  {
   "cell_type": "code",
   "execution_count": null,
   "id": "1586984f",
   "metadata": {},
   "outputs": [],
   "source": [
    "number = 10\n",
    "\n",
    "for point_name in one_hot_paris_grouped[\"Point name\"]:\n",
    "    print(f\"---------{point_name}---------\")\n",
    "    temp = one_hot_paris_grouped[one_hot_paris_grouped[\"Point name\"] == point_name].T.reset_index()\n",
    "    temp.columns = ['venue','freq']\n",
    "    temp = temp.iloc[1:]\n",
    "    temp['freq'] = temp['freq'].astype(float)\n",
    "    temp = temp.round({'freq': 2})\n",
    "    print(temp.sort_values('freq', ascending=False).reset_index(drop=True).head(number))\n",
    "    print('\\n')"
   ]
  },
  {
   "cell_type": "markdown",
   "id": "aa7c4696",
   "metadata": {},
   "source": [
    "### Sort the Venues "
   ]
  },
  {
   "cell_type": "code",
   "execution_count": null,
   "id": "8bfe4ae8",
   "metadata": {},
   "outputs": [],
   "source": [
    "def return_top_ten_venues(row, num_top_venues):\n",
    "    row_categories = row.iloc[1:]\n",
    "    row_categories_sorted = row_categories.sort_values(ascending=False)\n",
    "    \n",
    "    return row_categories_sorted.index.values[0:num_top_venues]"
   ]
  },
  {
   "cell_type": "code",
   "execution_count": null,
   "id": "f977a349",
   "metadata": {},
   "outputs": [],
   "source": [
    "num_top_venues = 10\n",
    "\n",
    "indicators = ['st', 'nd', 'rd']\n",
    "\n",
    "# create columns according to number of top venues\n",
    "columns = ['point name']\n",
    "for ind in np.arange(num_top_venues):\n",
    "    try:\n",
    "        columns.append('{}{} Most Common Venue'.format(ind+1, indicators[ind]))\n",
    "    except:\n",
    "        columns.append('{}th Most Common Venue'.format(ind+1))\n",
    "\n",
    "# create a new dataframe\n",
    "point_name_venues_sorted = pd.DataFrame(columns=columns)\n",
    "point_name_venues_sorted['Point name'] = one_hot_ny_grouped['Point name']\n",
    "\n",
    "for ind in np.arange(point_name_venues_sorted.shape[0]):\n",
    "    point_name_venues_sorted.iloc[ind, 1:] = return_top_ten_venues(one_hot_ny_grouped.iloc[ind, :], num_top_venues)\n",
    "\n",
    "point_name_venues_sorted.head()"
   ]
  },
  {
   "cell_type": "markdown",
   "id": "2e043141",
   "metadata": {},
   "source": [
    "### Cluster Points "
   ]
  },
  {
   "cell_type": "code",
   "execution_count": null,
   "id": "a9cfc21c",
   "metadata": {},
   "outputs": [],
   "source": [
    "kclusters = 5\n",
    "one_hot_paris_grouped_cluster = one_hot_paris_grouped.drop(\"Point name\", axis=1)\n",
    "\n",
    "kmean = KMeans(n_clusters=kclusters, random_state=0).fit(one_hot_paris_grouped_cluster)\n",
    "kmean.labels_"
   ]
  },
  {
   "cell_type": "markdown",
   "id": "5fb44aa7",
   "metadata": {},
   "source": [
    "### Merge dataframe and clusters "
   ]
  },
  {
   "cell_type": "code",
   "execution_count": null,
   "id": "601cd72f",
   "metadata": {},
   "outputs": [],
   "source": [
    "point_name_venues_sorted.insert(0, \"Cluster Labels\", kmean.labels_)\n",
    "paris_york_merged = paris_points_with_lat_long\n",
    "paris_york_merged = paris_york_merged.join(point_name_venues_sorted.set_index(\"Point name\"), on=\"Point name\")"
   ]
  },
  {
   "cell_type": "code",
   "execution_count": null,
   "id": "d937da17",
   "metadata": {},
   "outputs": [],
   "source": [
    "paris_york_merged"
   ]
  },
  {
   "cell_type": "code",
   "execution_count": null,
   "id": "d1ee2e39",
   "metadata": {},
   "outputs": [],
   "source": [
    "paris_york_merged['Cluster Labels']"
   ]
  },
  {
   "cell_type": "markdown",
   "id": "3e522e56",
   "metadata": {},
   "source": [
    "#### Cluster 1"
   ]
  },
  {
   "cell_type": "code",
   "execution_count": null,
   "id": "bae1bcc8",
   "metadata": {},
   "outputs": [],
   "source": [
    "paris_york_merged.loc[paris_york_merged['Cluster Labels'] == 0, paris_york_merged.columns[[0] + list(range(3, paris_york_merged.shape[1]))]]"
   ]
  },
  {
   "cell_type": "markdown",
   "id": "a48c2515",
   "metadata": {},
   "source": [
    "#### Cluster 2"
   ]
  },
  {
   "cell_type": "code",
   "execution_count": null,
   "id": "15fb6a96",
   "metadata": {},
   "outputs": [],
   "source": [
    "paris_york_merged.loc[paris_york_merged['Cluster Labels'] == 1, paris_york_merged.columns[[0] + list(range(3, paris_york_merged.shape[1]))]]"
   ]
  },
  {
   "cell_type": "markdown",
   "id": "f7ccce65",
   "metadata": {},
   "source": [
    "#### Cluster 3"
   ]
  },
  {
   "cell_type": "code",
   "execution_count": null,
   "id": "39a05cbd",
   "metadata": {},
   "outputs": [],
   "source": [
    "paris_york_merged.loc[paris_york_merged['Cluster Labels'] == 2, paris_york_merged.columns[[0] + list(range(3, paris_york_merged.shape[1]))]]"
   ]
  },
  {
   "cell_type": "markdown",
   "id": "cc66375c",
   "metadata": {},
   "source": [
    "#### Cluster 4"
   ]
  },
  {
   "cell_type": "code",
   "execution_count": null,
   "id": "23127ce2",
   "metadata": {},
   "outputs": [],
   "source": [
    "paris_york_merged.loc[paris_york_merged['Cluster Labels'] == 3, paris_york_merged.columns[[0] + list(range(3, paris_york_merged.shape[1]))]]"
   ]
  },
  {
   "cell_type": "markdown",
   "id": "5e72ea78",
   "metadata": {},
   "source": [
    "#### Cluster 5"
   ]
  },
  {
   "cell_type": "code",
   "execution_count": null,
   "id": "a10864f4",
   "metadata": {},
   "outputs": [],
   "source": [
    "paris_york_merged.loc[paris_york_merged['Cluster Labels'] == 4, paris_york_merged.columns[[0] + list(range(3, paris_york_merged.shape[1]))]]"
   ]
  },
  {
   "cell_type": "code",
   "execution_count": null,
   "id": "33b592db",
   "metadata": {},
   "outputs": [],
   "source": []
  }
 ],
 "metadata": {
  "kernelspec": {
   "display_name": "Python 3 (ipykernel)",
   "language": "python",
   "name": "python3"
  },
  "language_info": {
   "codemirror_mode": {
    "name": "ipython",
    "version": 3
   },
   "file_extension": ".py",
   "mimetype": "text/x-python",
   "name": "python",
   "nbconvert_exporter": "python",
   "pygments_lexer": "ipython3",
   "version": "3.9.5"
  }
 },
 "nbformat": 4,
 "nbformat_minor": 5
}
