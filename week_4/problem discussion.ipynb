{
 "cells": [
  {
   "cell_type": "markdown",
   "id": "a91ca4cc",
   "metadata": {},
   "source": [
    "## Is New York and Paris overrated as a tourist destination?"
   ]
  },
  {
   "cell_type": "markdown",
   "id": "78335ce3",
   "metadata": {},
   "source": [
    "There are many tourist destinations and among them, Paris and New York always pop up. Now question is, are those two places really that good? Or just overrated. Does it worth it to spend big money to visit and stay in those places?\n",
    "\n",
    "###### Who will get benefited from this study:\n",
    "Tourists before visiting the area. See if most of the things interest them enough to visit.\n",
    "Travel agency \n",
    "People are interested in tourism-related businesses such as cafes, hotels, souvenir shops, property values and etc."
   ]
  },
  {
   "cell_type": "code",
   "execution_count": null,
   "id": "e9275763",
   "metadata": {},
   "outputs": [],
   "source": []
  }
 ],
 "metadata": {
  "kernelspec": {
   "display_name": "Python 3 (ipykernel)",
   "language": "python",
   "name": "python3"
  },
  "language_info": {
   "codemirror_mode": {
    "name": "ipython",
    "version": 3
   },
   "file_extension": ".py",
   "mimetype": "text/x-python",
   "name": "python",
   "nbconvert_exporter": "python",
   "pygments_lexer": "ipython3",
   "version": "3.9.5"
  }
 },
 "nbformat": 4,
 "nbformat_minor": 5
}
